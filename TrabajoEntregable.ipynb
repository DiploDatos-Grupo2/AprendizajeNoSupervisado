{
 "cells": [
  {
   "cell_type": "markdown",
   "id": "b2dcdd24-8a4d-4189-9167-025ad77a1a35",
   "metadata": {},
   "source": [
    "# Aprendizaje No Supervisado - Diplodatos 2021\n",
    "\n",
    "### Integrantes:\n",
    "<li> Pablo Carrazana\n",
    "<li> Luis Juncos\n",
    "<li> Bruno Garcia\n",
    "<li> Martin Peñas"
   ]
  },
  {
   "cell_type": "markdown",
   "id": "d16cb8d3-d5e0-4d02-a98f-f0f89b37c6cb",
   "metadata": {},
   "source": [
    "# Práctico Entregable\n",
    "\n",
    "\n",
    "Utilizar la base de jugadores “players_21.csv” disponible en la página de Kaggle https://www.kaggle.com/stefanoleone992/fifa-21-complete-player-dataset?select=players_21.csv. Considerar que la base 2021 no tiene el mismo formato que la base vista en clase, a los nombres de las variables se les agregó una keyword para identificar a qué tipo de habilidad corresponde.\n",
    "\n",
    "Con la nueva base, realizar un análisis análogo al que realizamos en el cursado de la materia con los datos FIFA2019 (Basarse en las notebooks ntb_clustering_1_fifa2019_Colab, ntb_clustering_2_fifa2019_Colab y ntb4_embeddings_fifa2019_Colab). Realicen comentarios en cada parte (verbose=True ;))\n",
    "\n",
    "1- Análisis exploratorio (sintético, no muy extenso) .\n",
    "\n",
    "2- Evaluación visual e intuitiva de a dos variables por vez.\n",
    "\n",
    "3- Uso de técnicas de clustering: k-Medias, Mean Shift y Alguna jerárquica (sugerencia: usar 'cityblock' como distancia en el jerárquico).\n",
    "\n",
    "4- Análisis de los clusters encontrados.\n",
    "\n",
    "5- Embeddings y técnicas de clustering.\n",
    "\n",
    "6- Evaluación.\n",
    "\n",
    "7- Pregunta: ¿Se realizó alguna normalización de la base? ¿Por qué ?"
   ]
  },
  {
   "cell_type": "code",
   "execution_count": null,
   "id": "5d29d6d4-2ce9-4976-8437-7780deec932c",
   "metadata": {},
   "outputs": [],
   "source": []
  }
 ],
 "metadata": {
  "kernelspec": {
   "display_name": "Python 3",
   "language": "python",
   "name": "python3"
  },
  "language_info": {
   "codemirror_mode": {
    "name": "ipython",
    "version": 3
   },
   "file_extension": ".py",
   "mimetype": "text/x-python",
   "name": "python",
   "nbconvert_exporter": "python",
   "pygments_lexer": "ipython3",
   "version": "3.8.8"
  }
 },
 "nbformat": 4,
 "nbformat_minor": 5
}
